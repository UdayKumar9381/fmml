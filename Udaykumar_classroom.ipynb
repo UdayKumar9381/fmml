{
  "nbformat": 4,
  "nbformat_minor": 0,
  "metadata": {
    "colab": {
      "provenance": [],
      "authorship_tag": "ABX9TyP0IrucElBI9X3a7lMaJzxL",
      "include_colab_link": true
    },
    "kernelspec": {
      "name": "python3",
      "display_name": "Python 3"
    },
    "language_info": {
      "name": "python"
    }
  },
  "cells": [
    {
      "cell_type": "markdown",
      "metadata": {
        "id": "view-in-github",
        "colab_type": "text"
      },
      "source": [
        "<a href=\"https://colab.research.google.com/github/UdayKumar9381/fmml/blob/main/Udaykumar_classroom.ipynb\" target=\"_parent\"><img src=\"https://colab.research.google.com/assets/colab-badge.svg\" alt=\"Open In Colab\"/></a>"
      ]
    },
    {
      "cell_type": "markdown",
      "source": [
        "##Day 1\n",
        "write a program to check if the given number is amstrong or not"
      ],
      "metadata": {
        "id": "XkWAvOapHOl_"
      }
    },
    {
      "cell_type": "code",
      "execution_count": null,
      "metadata": {
        "id": "3eZQwI5CG2g9",
        "colab": {
          "base_uri": "https://localhost:8080/"
        },
        "outputId": "65c80079-071f-43e1-decd-c21f392370fd"
      },
      "outputs": [
        {
          "output_type": "stream",
          "name": "stdout",
          "text": [
            "enter the number:4\n",
            "4 is an amstrong number\n"
          ]
        }
      ],
      "source": [
        "number=int(input(\"enter the number:\"))\n",
        "num_digits = len(str(number))\n",
        "total = 0\n",
        "temp = number\n",
        "\n",
        "while(temp > 0):\n",
        "    digit = temp % 10\n",
        "    total += digit ** num_digits\n",
        "    temp //= 10\n",
        "if(number == total):\n",
        "  print(number,\"is an amstrong number\")\n",
        "else:\n",
        "  print(number,\"is not an amstrong number\")"
      ]
    },
    {
      "cell_type": "markdown",
      "source": [
        "##Day 2\n",
        "Write a Python program to find a list of integers with exactly two occurrences of nineteen and at least three occurrences of five. Return True otherwise False."
      ],
      "metadata": {
        "id": "oRvap4-SIb5G"
      }
    },
    {
      "cell_type": "code",
      "source": [
        "\n",
        "arr = [19, 5, 5, 5, 19, 5, 5, 5, 5]\n",
        "\n",
        "count_nineteen = 0\n",
        "count_five = 0\n",
        "\n",
        "for num in arr:\n",
        "    if num == 19:\n",
        "        count_nineteen += 1\n",
        "    if num == 5:\n",
        "        count_five += 1\n",
        "\n",
        "result = False\n",
        "if count_nineteen == 2 and count_five >= 3:\n",
        "    result = True\n",
        "\n",
        "print(result)"
      ],
      "metadata": {
        "colab": {
          "base_uri": "https://localhost:8080/"
        },
        "id": "H1sKlALpQIc9",
        "outputId": "51bc6321-b1d4-4a91-b5a1-1a6d8909e266"
      },
      "execution_count": null,
      "outputs": [
        {
          "output_type": "stream",
          "name": "stdout",
          "text": [
            "True\n"
          ]
        }
      ]
    }
  ]
}